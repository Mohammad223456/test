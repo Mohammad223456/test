{
 "cells": [
  {
   "cell_type": "code",
   "execution_count": 3,
   "id": "7d980d05-a131-4a45-9bef-7c11875a8a0e",
   "metadata": {},
   "outputs": [
    {
     "name": "stdout",
     "output_type": "stream",
     "text": [
      "   Pregnancies  Glucose  BloodPressure  SkinThickness     Insulin   BMI  \\\n",
      "0            6      148             72      35.000000   79.799479  33.6   \n",
      "1            1       85             66      29.000000   79.799479  26.6   \n",
      "2            8      183             64      20.536458   79.799479  23.3   \n",
      "3            1       89             66      23.000000   94.000000  28.1   \n",
      "4            0      137             40      35.000000  168.000000  43.1   \n",
      "\n",
      "   DiabetesPedigreeFunction  Age  Outcome  \n",
      "0                     0.627   50        1  \n",
      "1                     0.351   31        0  \n",
      "2                     0.672   32        1  \n",
      "3                     0.167   21        0  \n",
      "4                     2.288   33        1  \n"
     ]
    }
   ],
   "source": [
    "import pandas as pd\n",
    " \n",
    "df = pd.read_csv('diabetes.csv')\n",
    "\n",
    "print(df.head())"
   ]
  },
  {
   "cell_type": "code",
   "execution_count": 6,
   "id": "b18e2d21-23a4-4457-9987-e539f4cf4546",
   "metadata": {},
   "outputs": [],
   "source": [
    "df.to_csv('diabetes.csv', index=False)"
   ]
  },
  {
   "cell_type": "code",
   "execution_count": 10,
   "id": "3c747509-ee2d-4b12-9d9b-e218c0acf929",
   "metadata": {},
   "outputs": [
    {
     "name": "stdout",
     "output_type": "stream",
     "text": [
      "       SkinThickness     Insulin\n",
      "count     768.000000  768.000000\n",
      "mean       20.536458   79.799479\n",
      "std        15.952218  115.244002\n",
      "min         0.000000    0.000000\n",
      "25%         0.000000    0.000000\n",
      "50%        23.000000   30.500000\n",
      "75%        32.000000  127.250000\n",
      "max        99.000000  846.000000\n",
      "SkinThickness    0\n",
      "Insulin          0\n",
      "dtype: int64\n"
     ]
    }
   ],
   "source": [
    "print(df[['SkinThickness', 'Insulin']].describe())     \n",
    "print(df[['SkinThickness', 'Insulin']].isnull().sum())  "
   ]
  },
  {
   "cell_type": "code",
   "execution_count": 12,
   "id": "e2133c8e-713b-4790-bcd9-dc03f11e91f4",
   "metadata": {},
   "outputs": [
    {
     "name": "stderr",
     "output_type": "stream",
     "text": [
      "C:\\Users\\ADMIN\\AppData\\Local\\Temp\\ipykernel_8608\\2032897648.py:1: FutureWarning: A value is trying to be set on a copy of a DataFrame or Series through chained assignment using an inplace method.\n",
      "The behavior will change in pandas 3.0. This inplace method will never work because the intermediate object on which we are setting values always behaves as a copy.\n",
      "\n",
      "For example, when doing 'df[col].method(value, inplace=True)', try using 'df.method({col: value}, inplace=True)' or df[col] = df[col].method(value) instead, to perform the operation inplace on the original object.\n",
      "\n",
      "\n",
      "  df['SkinThickness'].replace(0, df['SkinThickness'].mean(), inplace=True)\n",
      "C:\\Users\\ADMIN\\AppData\\Local\\Temp\\ipykernel_8608\\2032897648.py:2: FutureWarning: A value is trying to be set on a copy of a DataFrame or Series through chained assignment using an inplace method.\n",
      "The behavior will change in pandas 3.0. This inplace method will never work because the intermediate object on which we are setting values always behaves as a copy.\n",
      "\n",
      "For example, when doing 'df[col].method(value, inplace=True)', try using 'df.method({col: value}, inplace=True)' or df[col] = df[col].method(value) instead, to perform the operation inplace on the original object.\n",
      "\n",
      "\n",
      "  df['Insulin'].replace(0, df['Insulin'].mean(), inplace=True)\n"
     ]
    }
   ],
   "source": [
    "df['SkinThickness'].replace(0, df['SkinThickness'].mean(), inplace=True)\n",
    "df['Insulin'].replace(0, df['Insulin'].mean(), inplace=True)"
   ]
  },
  {
   "cell_type": "code",
   "execution_count": 16,
   "id": "0e2d28c9-0cfa-4235-9789-0a5225270d68",
   "metadata": {},
   "outputs": [],
   "source": [
    "df.to_csv('diabetes_cleaned.csv', index=False)"
   ]
  },
  {
   "cell_type": "code",
   "execution_count": 18,
   "id": "dbc29f70-e32d-405f-81c3-43a328fb19c9",
   "metadata": {},
   "outputs": [
    {
     "name": "stdout",
     "output_type": "stream",
     "text": [
      "null val in coulmns:\n",
      "Pregnancies                 111\n",
      "Glucose                       5\n",
      "BloodPressure                35\n",
      "SkinThickness                 0\n",
      "Insulin                       0\n",
      "BMI                          11\n",
      "DiabetesPedigreeFunction      0\n",
      "Age                           0\n",
      "Outcome                     500\n",
      "dtype: int64\n"
     ]
    }
   ],
   "source": [
    "zero_values = (df == 0).sum()\n",
    "print(\"null val in coulmns:\")\n",
    "print(zero_values)"
   ]
  },
  {
   "cell_type": "code",
   "execution_count": 20,
   "id": "6b0c94cb-c7b1-4353-bdd1-c0141900d5bf",
   "metadata": {},
   "outputs": [
    {
     "name": "stdout",
     "output_type": "stream",
     "text": [
      "       SkinThickness     Insulin\n",
      "count     768.000000  768.000000\n",
      "mean       26.606479  118.660163\n",
      "std         9.631241   93.080358\n",
      "min         7.000000   14.000000\n",
      "25%        20.536458   79.799479\n",
      "50%        23.000000   79.799479\n",
      "75%        32.000000  127.250000\n",
      "max        99.000000  846.000000\n"
     ]
    }
   ],
   "source": [
    "\n",
    "df['SkinThickness'].replace(0, df['SkinThickness'].mean(), inplace=True)\n",
    "df['Insulin'].replace(0, df['Insulin'].mean(), inplace=True)\n",
    "\n",
    "\n",
    "print(df[['SkinThickness', 'Insulin']].describe())"
   ]
  },
  {
   "cell_type": "code",
   "execution_count": 5,
   "id": "122cb9c0-32b0-4d62-8422-f8510254c29f",
   "metadata": {},
   "outputs": [
    {
     "name": "stderr",
     "output_type": "stream",
     "text": [
      "C:\\Users\\ADMIN\\AppData\\Local\\Temp\\ipykernel_3024\\2850512173.py:2: FutureWarning: A value is trying to be set on a copy of a DataFrame or Series through chained assignment using an inplace method.\n",
      "The behavior will change in pandas 3.0. This inplace method will never work because the intermediate object on which we are setting values always behaves as a copy.\n",
      "\n",
      "For example, when doing 'df[col].method(value, inplace=True)', try using 'df.method({col: value}, inplace=True)' or df[col] = df[col].method(value) instead, to perform the operation inplace on the original object.\n",
      "\n",
      "\n",
      "  df['SkinThickness'].replace(0, df['SkinThickness'].mean(), inplace=True)\n",
      "C:\\Users\\ADMIN\\AppData\\Local\\Temp\\ipykernel_3024\\2850512173.py:3: FutureWarning: A value is trying to be set on a copy of a DataFrame or Series through chained assignment using an inplace method.\n",
      "The behavior will change in pandas 3.0. This inplace method will never work because the intermediate object on which we are setting values always behaves as a copy.\n",
      "\n",
      "For example, when doing 'df[col].method(value, inplace=True)', try using 'df.method({col: value}, inplace=True)' or df[col] = df[col].method(value) instead, to perform the operation inplace on the original object.\n",
      "\n",
      "\n",
      "  df['Insulin'].replace(0, df['Insulin'].mean(), inplace=True)\n",
      "C:\\Users\\ADMIN\\AppData\\Local\\Temp\\ipykernel_3024\\2850512173.py:4: FutureWarning: A value is trying to be set on a copy of a DataFrame or Series through chained assignment using an inplace method.\n",
      "The behavior will change in pandas 3.0. This inplace method will never work because the intermediate object on which we are setting values always behaves as a copy.\n",
      "\n",
      "For example, when doing 'df[col].method(value, inplace=True)', try using 'df.method({col: value}, inplace=True)' or df[col] = df[col].method(value) instead, to perform the operation inplace on the original object.\n",
      "\n",
      "\n",
      "  df['Glucose'].replace(0, df['Glucose'].mean(), inplace=True)\n",
      "C:\\Users\\ADMIN\\AppData\\Local\\Temp\\ipykernel_3024\\2850512173.py:5: FutureWarning: A value is trying to be set on a copy of a DataFrame or Series through chained assignment using an inplace method.\n",
      "The behavior will change in pandas 3.0. This inplace method will never work because the intermediate object on which we are setting values always behaves as a copy.\n",
      "\n",
      "For example, when doing 'df[col].method(value, inplace=True)', try using 'df.method({col: value}, inplace=True)' or df[col] = df[col].method(value) instead, to perform the operation inplace on the original object.\n",
      "\n",
      "\n",
      "  df['BloodPressure'].replace(0, df['BloodPressure'].mean(), inplace=True)\n",
      "C:\\Users\\ADMIN\\AppData\\Local\\Temp\\ipykernel_3024\\2850512173.py:6: FutureWarning: A value is trying to be set on a copy of a DataFrame or Series through chained assignment using an inplace method.\n",
      "The behavior will change in pandas 3.0. This inplace method will never work because the intermediate object on which we are setting values always behaves as a copy.\n",
      "\n",
      "For example, when doing 'df[col].method(value, inplace=True)', try using 'df.method({col: value}, inplace=True)' or df[col] = df[col].method(value) instead, to perform the operation inplace on the original object.\n",
      "\n",
      "\n",
      "  df['BMI'].replace(0, df['BMI'].mean(), inplace=True)\n"
     ]
    }
   ],
   "source": [
    "\n",
    "df['SkinThickness'].replace(0, df['SkinThickness'].mean(), inplace=True)\n",
    "df['Insulin'].replace(0, df['Insulin'].mean(), inplace=True)\n",
    "df['Glucose'].replace(0, df['Glucose'].mean(), inplace=True)\n",
    "print((df == 0).sum())  \n",
    "print(df.describe())  \n",
    "df['BloodPressure'].replace(0, df['BloodPressure'].mean(), inplace=True)\n",
    "df['BMI'].replace(0, df['BMI'].mean(), inplace=True)"
   ]
  },
  {
   "cell_type": "code",
   "execution_count": 7,
   "id": "bac5cb7c-f9b7-4dff-8b06-759e2a30d5e5",
   "metadata": {},
   "outputs": [
    {
     "name": "stdout",
     "output_type": "stream",
     "text": [
      "Pregnancies                 111\n",
      "Glucose                       0\n",
      "BloodPressure                 0\n",
      "SkinThickness                 0\n",
      "Insulin                       0\n",
      "BMI                           0\n",
      "DiabetesPedigreeFunction      0\n",
      "Age                           0\n",
      "Outcome                     500\n",
      "dtype: int64\n",
      "       Pregnancies     Glucose  BloodPressure  SkinThickness     Insulin  \\\n",
      "count   768.000000  768.000000     768.000000     768.000000  768.000000   \n",
      "mean      3.845052  121.681605      72.254807      26.606479  118.660163   \n",
      "std       3.369578   30.436016      12.115932       9.631241   93.080358   \n",
      "min       0.000000   44.000000      24.000000       7.000000   14.000000   \n",
      "25%       1.000000   99.750000      64.000000      20.536458   79.799479   \n",
      "50%       3.000000  117.000000      72.000000      23.000000   79.799479   \n",
      "75%       6.000000  140.250000      80.000000      32.000000  127.250000   \n",
      "max      17.000000  199.000000     122.000000      99.000000  846.000000   \n",
      "\n",
      "              BMI  DiabetesPedigreeFunction         Age     Outcome  \n",
      "count  768.000000                768.000000  768.000000  768.000000  \n",
      "mean    32.450805                  0.471876   33.240885    0.348958  \n",
      "std      6.875374                  0.331329   11.760232    0.476951  \n",
      "min     18.200000                  0.078000   21.000000    0.000000  \n",
      "25%     27.500000                  0.243750   24.000000    0.000000  \n",
      "50%     32.000000                  0.372500   29.000000    0.000000  \n",
      "75%     36.600000                  0.626250   41.000000    1.000000  \n",
      "max     67.100000                  2.420000   81.000000    1.000000  \n"
     ]
    }
   ],
   "source": [
    "\n",
    "print((df == 0).sum())  \n",
    "print(df.describe())  "
   ]
  },
  {
   "cell_type": "code",
   "execution_count": 11,
   "id": "2d632c4a-41b0-46a7-818d-a60b2c75cc93",
   "metadata": {},
   "outputs": [
    {
     "name": "stdout",
     "output_type": "stream",
     "text": [
      " diabetes_cleaned.csv\n"
     ]
    }
   ],
   "source": [
    "\n",
    "df.to_csv('diabetes_cleaned.csv', index=False)\n",
    "print(\" diabetes_cleaned.csv\")"
   ]
  },
  {
   "cell_type": "code",
   "execution_count": null,
   "id": "e86654c1-dee9-4947-a02d-fd52ad60154b",
   "metadata": {},
   "outputs": [],
   "source": []
  }
 ],
 "metadata": {
  "kernelspec": {
   "display_name": "Python 3 (ipykernel)",
   "language": "python",
   "name": "python3"
  },
  "language_info": {
   "codemirror_mode": {
    "name": "ipython",
    "version": 3
   },
   "file_extension": ".py",
   "mimetype": "text/x-python",
   "name": "python",
   "nbconvert_exporter": "python",
   "pygments_lexer": "ipython3",
   "version": "3.12.7"
  }
 },
 "nbformat": 4,
 "nbformat_minor": 5
}
